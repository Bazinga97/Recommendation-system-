{
  "nbformat": 4,
  "nbformat_minor": 0,
  "metadata": {
    "colab": {
      "provenance": [],
      "authorship_tag": "ABX9TyP7YafPOyqDLSut9hs2+ZK3",
      "include_colab_link": true
    },
    "kernelspec": {
      "name": "python3",
      "display_name": "Python 3"
    },
    "language_info": {
      "name": "python"
    }
  },
  "cells": [
    {
      "cell_type": "markdown",
      "metadata": {
        "id": "view-in-github",
        "colab_type": "text"
      },
      "source": [
        "<a href=\"https://colab.research.google.com/github/Bazinga97/Recommendation-system-/blob/main/Amazon_Electronics_Recommendation.ipynb\" target=\"_parent\"><img src=\"https://colab.research.google.com/assets/colab-badge.svg\" alt=\"Open In Colab\"/></a>"
      ]
    },
    {
      "cell_type": "markdown",
      "source": [
        "# **Problem Statement **\n",
        "\n",
        "Online E-commerce websites like Amazon, Filpkart uses different recommendation models to provide different suggestions to different users. Build your own recommendation system for products on an e-commerce website like Amazon.com.\n",
        "\n",
        "Amazon: ** Collaborative filtering**: predict user preference by collecting preferences from other users\n",
        "\n",
        "**Assumptions**: Two different users: having same preferences : then they most likely same preferences over other items\n",
        "\n",
        "## Types: User_based and item_based\n",
        "\n",
        "**User_based**: recommends items by fiding similar users\n",
        "\n",
        "**Item_based**: similar items based on user interactions and recommends similar to ones the user has already liked\n",
        "\n",
        "\n",
        "Scales: data sets and produces high-quality recommendations in real time.\n",
        "\n",
        "Filtering matches each of the user's purchases and rated items to similar items, : recommendation list for the user.\n",
        "\n",
        "\n",
        "\n",
        "Dataset\n",
        "The source of the dataset - Amazon Reviews data (http://jmcauley.ucsd.edu/data/amazon/). The repository has several datasets. For this case study, we are using the Electronics dataset. The columns in this dataset are:\n",
        "\n",
        "userId\n",
        "\n",
        "productId\n",
        "\n",
        "ratings\n",
        "\n",
        "timestamp\n"
      ],
      "metadata": {
        "id": "-x2q2AAVKX7E"
      }
    },
    {
      "cell_type": "code",
      "execution_count": null,
      "metadata": {
        "id": "dWuo-S8AKLRV"
      },
      "outputs": [],
      "source": [
        "## Basic imports\n",
        "\n",
        "import math, random, warnings  ## for math module / warning controls over behaviour of warning messages in python\n",
        "from time import time\n",
        "from datetime import datetime\n",
        "from collections import defaultdict ## create dictionaries with default values for missing keys\n",
        "from IPython.core.interactiveshell import InteractiveShell ## interactive python interpreter by modifying appearence of shell by incoporating custom commands"
      ]
    },
    {
      "cell_type": "code",
      "source": [
        "import numpy as np ## import numpy library for multidimensional array and matrices\n",
        "from scipy.sparse.linalg import svds  ## Singular value decomposition(SVD): decomposes a matrix into three constituent matrices for dimensionality reduction and capturing latent factors\n",
        "from sklearn import model_selection ## Module includes: model selection and evalutaion = Cross-validation, train-test split and hyperparamter tuning\n",
        "from sklearn.metrics.pairwise import cosine_similarity # Cosine similarity measures: similarity between two vectors in multi-dimensional space employed in recommendation and text filtering"
      ],
      "metadata": {
        "id": "RnsNRooHR8kE"
      },
      "execution_count": null,
      "outputs": []
    },
    {
      "cell_type": "code",
      "source": [
        "# Data handling\n",
        "import pandas as pd\n",
        "\n",
        "# Data Visualization\n",
        "import matplotlib.pyplot as plt\n",
        "import seaborn as sns"
      ],
      "metadata": {
        "id": "nLoDRn35UDUG"
      },
      "execution_count": null,
      "outputs": []
    },
    {
      "cell_type": "markdown",
      "source": [
        "Scikit-learn / Scikit-surprise\n",
        "\n",
        "Scikit-learn : used for supervised and unsupervised learning for classification, clustering and dimensionality reduction\n",
        "\n",
        "\n",
        "Scikit-surprise: particularly for design and building and analysing recommendation tasks\n",
        "\n",
        "Scikit-surprise focuses : collaborative filtering techniques,\n",
        "\n",
        "Matrix factorization,\n",
        "Neighborhood-based methods,\n",
        "Baseline models.\n",
        "\n",
        "Simplify the process by  evaluating recommendation algorithms, with support for dataset handling, cross-validation, and hyperparameter tuning.\n"
      ],
      "metadata": {
        "id": "1_Wueyl0Ugzr"
      }
    },
    {
      "cell_type": "code",
      "source": [
        "from surprise import SVD, KNNWithMeans\n",
        "from surprise import Dataset, Reader, accuracy\n",
        "from surprise.model_selection import train_test_split, GridSearchCV\n",
        "from surprise.prediction_algorithms.baseline_only import BaselineOnly\n"
      ],
      "metadata": {
        "id": "-NJPMBdeUFgI"
      },
      "execution_count": null,
      "outputs": []
    },
    {
      "cell_type": "code",
      "source": [
        "# Configure for any default setting of any library\n",
        "InteractiveShell.ast_node_interactivity = \"all\"\n",
        "warnings.filterwarnings('ignore')\n",
        "%matplotlib inline\n",
        "# sns.set(style='whitegrid', palette='deep', font='sans-serif', font_scale=1.2, color_codes=True)\n",
        "pd.set_option('display.float_format', lambda x: '%.3f' % x)"
      ],
      "metadata": {
        "id": "T3v840SsVwjO"
      },
      "execution_count": null,
      "outputs": []
    },
    {
      "cell_type": "markdown",
      "source": [
        "### Exploratory data analysis"
      ],
      "metadata": {
        "id": "qGeG4TGqV0dk"
      }
    },
    {
      "cell_type": "code",
      "source": [
        "\n",
        "# Load the dataset into a Pandas dataframe called ratingsand skip any lines that return an error\n",
        "ratings = pd.read_csv('ratings_Electronics(1).csv',\n",
        "                      names=['userId', 'productId', 'rating', 'timestamp'],\n",
        "                      error_bad_lines=False,\n",
        "                      warn_bad_lines=False)\n",
        "\n",
        "# Save an original copy of the dataframe\n",
        "ratings_original = ratings.copy(deep=True)"
      ],
      "metadata": {
        "colab": {
          "base_uri": "https://localhost:8080/",
          "height": 211
        },
        "id": "112vYg9eeHpI",
        "outputId": "9de36d43-6ccc-4ae6-ff9c-34ede8d67fa6"
      },
      "execution_count": null,
      "outputs": [
        {
          "output_type": "error",
          "ename": "TypeError",
          "evalue": "read_csv() got an unexpected keyword argument 'error_bad_lines'",
          "traceback": [
            "\u001b[0;31m---------------------------------------------------------------------------\u001b[0m",
            "\u001b[0;31mTypeError\u001b[0m                                 Traceback (most recent call last)",
            "\u001b[0;32m<ipython-input-24-c17eca0f672d>\u001b[0m in \u001b[0;36m<cell line: 2>\u001b[0;34m()\u001b[0m\n\u001b[1;32m      1\u001b[0m \u001b[0;31m# Load the dataset into a Pandas dataframe called ratingsand skip any lines that return an error\u001b[0m\u001b[0;34m\u001b[0m\u001b[0;34m\u001b[0m\u001b[0m\n\u001b[0;32m----> 2\u001b[0;31m ratings = pd.read_csv('ratings_Electronics(1).csv',\n\u001b[0m\u001b[1;32m      3\u001b[0m                       \u001b[0mnames\u001b[0m\u001b[0;34m=\u001b[0m\u001b[0;34m[\u001b[0m\u001b[0;34m'userId'\u001b[0m\u001b[0;34m,\u001b[0m \u001b[0;34m'productId'\u001b[0m\u001b[0;34m,\u001b[0m \u001b[0;34m'rating'\u001b[0m\u001b[0;34m,\u001b[0m \u001b[0;34m'timestamp'\u001b[0m\u001b[0;34m]\u001b[0m\u001b[0;34m,\u001b[0m\u001b[0;34m\u001b[0m\u001b[0;34m\u001b[0m\u001b[0m\n\u001b[1;32m      4\u001b[0m                       \u001b[0merror_bad_lines\u001b[0m\u001b[0;34m=\u001b[0m\u001b[0;32mFalse\u001b[0m\u001b[0;34m,\u001b[0m\u001b[0;34m\u001b[0m\u001b[0;34m\u001b[0m\u001b[0m\n\u001b[1;32m      5\u001b[0m                       warn_bad_lines=False)\n",
            "\u001b[0;31mTypeError\u001b[0m: read_csv() got an unexpected keyword argument 'error_bad_lines'"
          ]
        }
      ]
    }
  ]
}